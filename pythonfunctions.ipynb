{
 "cells": [
  {
   "cell_type": "markdown",
   "id": "3e9e085e-ea08-4d90-bd9a-99d72e18138a",
   "metadata": {},
   "source": [
    "Python function"
   ]
  },
  {
   "cell_type": "code",
   "execution_count": 2,
   "id": "d7d456bb-e543-4f5d-a207-c1bc7bdc95d1",
   "metadata": {},
   "outputs": [],
   "source": [
    "def even_odd(num):\n",
    "    if num%2==0:\n",
    "        print('number is even')\n",
    "    else:\n",
    "        print('number is odd')\n",
    "        "
   ]
  },
  {
   "cell_type": "code",
   "execution_count": 3,
   "id": "a662bab5-4188-4f5a-8b5c-f8fc0ec90d06",
   "metadata": {},
   "outputs": [
    {
     "name": "stdout",
     "output_type": "stream",
     "text": [
      "number is odd\n"
     ]
    }
   ],
   "source": [
    "even_odd(13)"
   ]
  },
  {
   "cell_type": "code",
   "execution_count": 4,
   "id": "d0ac69d2-7fd1-42f0-be16-877c018bccd7",
   "metadata": {},
   "outputs": [],
   "source": [
    "def Hello_world():\n",
    "    print('Hello')"
   ]
  },
  {
   "cell_type": "code",
   "execution_count": 7,
   "id": "258f4185-6066-4926-9152-05ec798736dd",
   "metadata": {},
   "outputs": [
    {
     "name": "stdout",
     "output_type": "stream",
     "text": [
      "Hello\n"
     ]
    }
   ],
   "source": [
    "val=Hello_world()"
   ]
  },
  {
   "cell_type": "code",
   "execution_count": 8,
   "id": "2bb5297c-1b10-4e0c-8be8-dd50440c26eb",
   "metadata": {},
   "outputs": [
    {
     "name": "stdout",
     "output_type": "stream",
     "text": [
      "None\n"
     ]
    }
   ],
   "source": [
    "print(val)"
   ]
  },
  {
   "cell_type": "code",
   "execution_count": 9,
   "id": "3834958d-8764-4208-af4b-19470b4019e3",
   "metadata": {},
   "outputs": [],
   "source": [
    "def mello_world():\n",
    "    return 'hello'"
   ]
  },
  {
   "cell_type": "code",
   "execution_count": 11,
   "id": "49e6e611-b4bd-4ef4-9388-1a343e6f1ea2",
   "metadata": {},
   "outputs": [
    {
     "name": "stdout",
     "output_type": "stream",
     "text": [
      "hello\n"
     ]
    }
   ],
   "source": [
    "va=mello_world()\n",
    "print(va)"
   ]
  },
  {
   "cell_type": "code",
   "execution_count": 14,
   "id": "c20d1ca4-7ea1-4a88-9a53-3720393a2b2c",
   "metadata": {},
   "outputs": [],
   "source": [
    "def hello(name,age=29):                            #positional argument is name and keyword argument is age as it is assigned\n",
    "    print('My name is {} and my age is{}'.format(name,age))"
   ]
  },
  {
   "cell_type": "code",
   "execution_count": 15,
   "id": "88661d87-7fe0-4f8e-b1cc-ba9001059b62",
   "metadata": {},
   "outputs": [
    {
     "name": "stdout",
     "output_type": "stream",
     "text": [
      "My name is melanie and my age is29\n"
     ]
    }
   ],
   "source": [
    "hello('melanie')"
   ]
  },
  {
   "cell_type": "code",
   "execution_count": 16,
   "id": "e4a8af32-cf88-4880-a7de-71284e85652f",
   "metadata": {},
   "outputs": [],
   "source": [
    "def hell0(*args,**kargs):\n",
    "    print(args)\n",
    "    print(kargs)"
   ]
  },
  {
   "cell_type": "code",
   "execution_count": 20,
   "id": "9833441c-65a1-498d-82e4-11b1a27bd08d",
   "metadata": {},
   "outputs": [
    {
     "name": "stdout",
     "output_type": "stream",
     "text": [
      "('melanie',)\n",
      "{'age': 20}\n"
     ]
    }
   ],
   "source": [
    "hell0(\"melanie\",age=20)"
   ]
  },
  {
   "cell_type": "code",
   "execution_count": 21,
   "id": "791e6c98-b6f7-4e45-90ea-7ec1101e393d",
   "metadata": {},
   "outputs": [],
   "source": [
    "list=[1,2,3,4,5,6,7,8,9]"
   ]
  },
  {
   "cell_type": "code",
   "execution_count": 24,
   "id": "776fc8e7-5980-4b2e-9bc9-c87afc1325ae",
   "metadata": {},
   "outputs": [],
   "source": [
    "def evenorodd(list):\n",
    "    even_sum=0\n",
    "    odd_sum=0\n",
    "    for i in list:\n",
    "        if i%2==0:\n",
    "            even_sum+=i\n",
    "        else:\n",
    "            odd_sum+=i\n",
    "    return even_sum,odd_sum\n",
    "    "
   ]
  },
  {
   "cell_type": "code",
   "execution_count": 25,
   "id": "93c328e8-b97b-4365-b371-2be38598000c",
   "metadata": {},
   "outputs": [
    {
     "data": {
      "text/plain": [
       "(20, 25)"
      ]
     },
     "execution_count": 25,
     "metadata": {},
     "output_type": "execute_result"
    }
   ],
   "source": [
    "evenorodd(list)"
   ]
  },
  {
   "cell_type": "markdown",
   "id": "a36bd99f-5bd2-49fa-8480-cf1c2602ce08",
   "metadata": {},
   "source": [
    "MAP function"
   ]
  },
  {
   "cell_type": "code",
   "execution_count": 26,
   "id": "5b375f19-47a2-424f-9b95-4a8675f95d97",
   "metadata": {},
   "outputs": [],
   "source": [
    "def even_or_odd(num):\n",
    "    if num%2==0:\n",
    "        return 'the number {} is even'.format(num)\n",
    "    else:\n",
    "        return 'the number {} is odd'.format(num)\n",
    "        \n",
    "        "
   ]
  },
  {
   "cell_type": "code",
   "execution_count": 34,
   "id": "011fd5f1-7e2b-41fe-a443-5c2486434d9b",
   "metadata": {},
   "outputs": [
    {
     "data": {
      "text/plain": [
       "<map at 0x23c545e4340>"
      ]
     },
     "execution_count": 34,
     "metadata": {},
     "output_type": "execute_result"
    }
   ],
   "source": [
    "numbers=[1,2,3,45,6,7]\n",
    "map(even_or_odd,numbers)\n"
   ]
  },
  {
   "cell_type": "markdown",
   "id": "bcab9fdd-913c-407e-9697-f33694449e76",
   "metadata": {},
   "source": [
    "lamda function or anonymous function"
   ]
  },
  {
   "cell_type": "code",
   "execution_count": 35,
   "id": "c6f6b9ed-b6e4-477e-98e9-b2573e13dad1",
   "metadata": {},
   "outputs": [],
   "source": [
    "def add(a,b):\n",
    "    return a+b"
   ]
  },
  {
   "cell_type": "code",
   "execution_count": 36,
   "id": "02e1ff32-1359-4d85-beb6-f759a8f46371",
   "metadata": {},
   "outputs": [
    {
     "data": {
      "text/plain": [
       "4"
      ]
     },
     "execution_count": 36,
     "metadata": {},
     "output_type": "execute_result"
    }
   ],
   "source": [
    "add(1,3)"
   ]
  },
  {
   "cell_type": "code",
   "execution_count": 37,
   "id": "eff04ee5-7493-45bd-88cf-ab7fd85b15e1",
   "metadata": {},
   "outputs": [],
   "source": [
    "addition=lambda a,b:a+b"
   ]
  },
  {
   "cell_type": "code",
   "execution_count": 38,
   "id": "70fe413d-12f5-4d08-8d05-37ae72fe86c8",
   "metadata": {},
   "outputs": [
    {
     "data": {
      "text/plain": [
       "54"
      ]
     },
     "execution_count": 38,
     "metadata": {},
     "output_type": "execute_result"
    }
   ],
   "source": [
    "addition(3,51)"
   ]
  },
  {
   "cell_type": "markdown",
   "id": "0e6e0cfe-f4d6-46d6-875c-1f1317e7a321",
   "metadata": {},
   "source": [
    "second example"
   ]
  },
  {
   "cell_type": "code",
   "execution_count": 39,
   "id": "7c86e41e-f3bc-472e-9224-f18210ac4d8c",
   "metadata": {},
   "outputs": [],
   "source": [
    "def even(a):\n",
    "    if a%2==0:\n",
    "        return True\n",
    "    "
   ]
  },
  {
   "cell_type": "code",
   "execution_count": 40,
   "id": "ca0f2edb-bc8a-4240-bb5f-de467bd933fe",
   "metadata": {},
   "outputs": [],
   "source": [
    "even2= lambda a:a%2==0"
   ]
  },
  {
   "cell_type": "code",
   "execution_count": 41,
   "id": "694ee297-a5f1-49ac-a31c-1ac21442a54a",
   "metadata": {},
   "outputs": [
    {
     "data": {
      "text/plain": [
       "False"
      ]
     },
     "execution_count": 41,
     "metadata": {},
     "output_type": "execute_result"
    }
   ],
   "source": [
    "even2(5)"
   ]
  },
  {
   "cell_type": "markdown",
   "id": "bdc4634b-54dd-45bb-a424-2d75c483d465",
   "metadata": {},
   "source": [
    "Filter function"
   ]
  },
  {
   "cell_type": "code",
   "execution_count": 2,
   "id": "9cb0a5a0-15f9-4ef0-ae54-d1a258672c48",
   "metadata": {},
   "outputs": [],
   "source": [
    "def even(num):\n",
    "    if num%2==0:\n",
    "        return True"
   ]
  },
  {
   "cell_type": "code",
   "execution_count": 3,
   "id": "2bffbbd7-b9e1-4a1d-be59-df0e4739a15d",
   "metadata": {},
   "outputs": [],
   "source": [
    "list=[3,4,5,6,7,8]"
   ]
  },
  {
   "cell_type": "code",
   "execution_count": 5,
   "id": "7886cf8e-dec7-4cbf-8d86-0b6ccc800217",
   "metadata": {},
   "outputs": [
    {
     "data": {
      "text/plain": [
       "<filter at 0x2b8f08c38e0>"
      ]
     },
     "execution_count": 5,
     "metadata": {},
     "output_type": "execute_result"
    }
   ],
   "source": [
    "filter(even,list)"
   ]
  },
  {
   "cell_type": "code",
   "execution_count": 8,
   "id": "b7d7b255-d9d7-4d18-af79-b994f1139e43",
   "metadata": {},
   "outputs": [
    {
     "data": {
      "text/plain": [
       "<filter at 0x2b8f08c3880>"
      ]
     },
     "execution_count": 8,
     "metadata": {},
     "output_type": "execute_result"
    }
   ],
   "source": [
    "filter(lambda num:num%2==0,list)"
   ]
  },
  {
   "cell_type": "markdown",
   "id": "8907d788-ffab-48f9-afdd-20745fde2e8d",
   "metadata": {},
   "source": [
    "List comprehension"
   ]
  },
  {
   "cell_type": "code",
   "execution_count": 12,
   "id": "84d89dac-c5fb-418a-9523-6f6eb5d28192",
   "metadata": {},
   "outputs": [],
   "source": [
    "list1=[]\n",
    "def list_sq(list):\n",
    "    for i in list:\n",
    "        list1.append(i*i)\n",
    "    return list1   "
   ]
  },
  {
   "cell_type": "code",
   "execution_count": 13,
   "id": "db657c40-e125-4a84-a416-9f603b04d074",
   "metadata": {},
   "outputs": [
    {
     "data": {
      "text/plain": [
       "[1, 4, 9, 16, 25]"
      ]
     },
     "execution_count": 13,
     "metadata": {},
     "output_type": "execute_result"
    }
   ],
   "source": [
    "list_sq([1,2,3,4,5])"
   ]
  },
  {
   "cell_type": "code",
   "execution_count": 14,
   "id": "75a4c83e-b902-41f5-b5f7-9cb7e7e29437",
   "metadata": {},
   "outputs": [],
   "source": [
    "list=[1,2,5,6,78]"
   ]
  },
  {
   "cell_type": "code",
   "execution_count": 15,
   "id": "e0599fb9-3834-4a2d-9118-47bd3319f2e9",
   "metadata": {},
   "outputs": [
    {
     "data": {
      "text/plain": [
       "[1, 4, 25, 36, 6084]"
      ]
     },
     "execution_count": 15,
     "metadata": {},
     "output_type": "execute_result"
    }
   ],
   "source": [
    "[i*i for i in list]"
   ]
  },
  {
   "cell_type": "markdown",
   "id": "b8c9068e-aafd-424c-97b0-72fd12e1b513",
   "metadata": {},
   "source": [
    "String Formatting"
   ]
  },
  {
   "cell_type": "code",
   "execution_count": 16,
   "id": "3cb08805-c8f0-44dd-982c-09690291664f",
   "metadata": {},
   "outputs": [],
   "source": [
    "def greeting(name):\n",
    "    return \"Hello {}.Welcome to the community\".format(name)"
   ]
  },
  {
   "cell_type": "code",
   "execution_count": 17,
   "id": "cd9b8ddd-fb11-450c-b318-64a75d59e6be",
   "metadata": {},
   "outputs": [
    {
     "data": {
      "text/plain": [
       "'Hello melanie.Welcome to the community'"
      ]
     },
     "execution_count": 17,
     "metadata": {},
     "output_type": "execute_result"
    }
   ],
   "source": [
    "greeting(\"melanie\")"
   ]
  },
  {
   "cell_type": "code",
   "execution_count": 24,
   "id": "30ede44c-93cd-4c9c-97d2-44841bb25c88",
   "metadata": {},
   "outputs": [],
   "source": [
    "def email(name,age):\n",
    "    return \"Hello {}.You age is {}\".format(name,age)"
   ]
  },
  {
   "cell_type": "code",
   "execution_count": 25,
   "id": "e3d21a08-c1a3-48aa-b754-805e4a648e13",
   "metadata": {},
   "outputs": [
    {
     "data": {
      "text/plain": [
       "'Hello melanie.You age is 21'"
      ]
     },
     "execution_count": 25,
     "metadata": {},
     "output_type": "execute_result"
    }
   ],
   "source": [
    "email(\"melanie\",21)"
   ]
  },
  {
   "cell_type": "code",
   "execution_count": 26,
   "id": "367d0326-805d-4d53-a832-e6738e10074f",
   "metadata": {},
   "outputs": [],
   "source": [
    "def email(name,age):\n",
    "    return \"Hello {name}.You age is {age}\".format(name=name,age=age)"
   ]
  },
  {
   "cell_type": "code",
   "execution_count": 28,
   "id": "c5409d9f-af4d-4586-9849-11d0f44798bc",
   "metadata": {},
   "outputs": [
    {
     "data": {
      "text/plain": [
       "'Hello lisa.You age is 14'"
      ]
     },
     "execution_count": 28,
     "metadata": {},
     "output_type": "execute_result"
    }
   ],
   "source": [
    "email(\"lisa\",14)"
   ]
  },
  {
   "cell_type": "markdown",
   "id": "9fb5b170-7173-4e92-a1fb-d84da30648b1",
   "metadata": {},
   "source": [
    "Iterables vs Iterators"
   ]
  },
  {
   "cell_type": "code",
   "execution_count": 29,
   "id": "113a4a7c-13e8-43d6-8a86-59e6265387ee",
   "metadata": {},
   "outputs": [
    {
     "name": "stdout",
     "output_type": "stream",
     "text": [
      "1\n",
      "2\n",
      "3\n",
      "4\n"
     ]
    }
   ],
   "source": [
    "#list is iterable\n",
    "list=[1,2,3,4]\n",
    "for i in list:\n",
    "    print(i)"
   ]
  },
  {
   "cell_type": "code",
   "execution_count": 32,
   "id": "03f5f39e-48fc-443c-a27b-cb4063f85dfa",
   "metadata": {},
   "outputs": [],
   "source": [
    "var=iter(list)"
   ]
  },
  {
   "cell_type": "code",
   "execution_count": 33,
   "id": "c73a2643-3e7b-4fae-b945-bba2dc074212",
   "metadata": {},
   "outputs": [
    {
     "data": {
      "text/plain": [
       "1"
      ]
     },
     "execution_count": 33,
     "metadata": {},
     "output_type": "execute_result"
    }
   ],
   "source": [
    "next(var)"
   ]
  },
  {
   "cell_type": "code",
   "execution_count": 34,
   "id": "1f19be4f-8db5-4562-aaeb-32f4b8f18914",
   "metadata": {},
   "outputs": [
    {
     "data": {
      "text/plain": [
       "2"
      ]
     },
     "execution_count": 34,
     "metadata": {},
     "output_type": "execute_result"
    }
   ],
   "source": [
    "next(var)"
   ]
  },
  {
   "cell_type": "code",
   "execution_count": null,
   "id": "04df0c42-a147-4cbc-8041-9957e0be55c5",
   "metadata": {},
   "outputs": [],
   "source": []
  }
 ],
 "metadata": {
  "kernelspec": {
   "display_name": "Python 3 (ipykernel)",
   "language": "python",
   "name": "python3"
  },
  "language_info": {
   "codemirror_mode": {
    "name": "ipython",
    "version": 3
   },
   "file_extension": ".py",
   "mimetype": "text/x-python",
   "name": "python",
   "nbconvert_exporter": "python",
   "pygments_lexer": "ipython3",
   "version": "3.11.7"
  }
 },
 "nbformat": 4,
 "nbformat_minor": 5
}
