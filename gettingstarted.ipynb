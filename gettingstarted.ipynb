{
 "cells": [
  {
   "cell_type": "markdown",
   "id": "b87a68b8-c160-4b9f-9a41-e4ec9dff4552",
   "metadata": {},
   "source": [
    "Simple python datatypes"
   ]
  },
  {
   "cell_type": "code",
   "execution_count": 2,
   "id": "f9fd4aaf-f93c-4703-a127-5b5d8f6c544a",
   "metadata": {},
   "outputs": [
    {
     "data": {
      "text/plain": [
       "2"
      ]
     },
     "execution_count": 2,
     "metadata": {},
     "output_type": "execute_result"
    }
   ],
   "source": [
    "1+1"
   ]
  },
  {
   "cell_type": "code",
   "execution_count": 3,
   "id": "a2563bf0-18da-43be-968a-2e9c89e737a3",
   "metadata": {},
   "outputs": [
    {
     "data": {
      "text/plain": [
       "80"
      ]
     },
     "execution_count": 3,
     "metadata": {},
     "output_type": "execute_result"
    }
   ],
   "source": [
    "4*20"
   ]
  },
  {
   "cell_type": "code",
   "execution_count": 4,
   "id": "7d0bb1b1-6f81-44f5-b0ef-70aea85ce4ff",
   "metadata": {},
   "outputs": [
    {
     "data": {
      "text/plain": [
       "100.0"
      ]
     },
     "execution_count": 4,
     "metadata": {},
     "output_type": "execute_result"
    }
   ],
   "source": [
    "400/4"
   ]
  },
  {
   "cell_type": "code",
   "execution_count": 5,
   "id": "71f20955-3003-43f9-91a1-1e892a0a6b8b",
   "metadata": {},
   "outputs": [
    {
     "data": {
      "text/plain": [
       "100"
      ]
     },
     "execution_count": 5,
     "metadata": {},
     "output_type": "execute_result"
    }
   ],
   "source": [
    "10**2"
   ]
  },
  {
   "cell_type": "code",
   "execution_count": 6,
   "id": "7b223966-ae05-491a-b4b2-52ecd0fc8a47",
   "metadata": {},
   "outputs": [
    {
     "data": {
      "text/plain": [
       "'melmelmelmelmel'"
      ]
     },
     "execution_count": 6,
     "metadata": {},
     "output_type": "execute_result"
    }
   ],
   "source": [
    "5* 'mel'"
   ]
  },
  {
   "cell_type": "markdown",
   "id": "28e20dc9-cc15-45eb-8d44-5d6785cb4478",
   "metadata": {},
   "source": [
    "find datatypes using type function"
   ]
  },
  {
   "cell_type": "code",
   "execution_count": 7,
   "id": "eae5a1c9-1f49-490f-b34f-27ab82bb634b",
   "metadata": {},
   "outputs": [
    {
     "data": {
      "text/plain": [
       "int"
      ]
     },
     "execution_count": 7,
     "metadata": {},
     "output_type": "execute_result"
    }
   ],
   "source": [
    "type(100)"
   ]
  },
  {
   "cell_type": "code",
   "execution_count": 8,
   "id": "b4e0ff95-aef2-4c62-986a-12b3cfeeebd4",
   "metadata": {},
   "outputs": [
    {
     "data": {
      "text/plain": [
       "str"
      ]
     },
     "execution_count": 8,
     "metadata": {},
     "output_type": "execute_result"
    }
   ],
   "source": [
    "type(\"hello\")"
   ]
  },
  {
   "cell_type": "code",
   "execution_count": 9,
   "id": "81bc6fc1-ca3e-4c78-b198-6a1c41512cf5",
   "metadata": {},
   "outputs": [
    {
     "data": {
      "text/plain": [
       "float"
      ]
     },
     "execution_count": 9,
     "metadata": {},
     "output_type": "execute_result"
    }
   ],
   "source": [
    "type(9999.99)"
   ]
  },
  {
   "cell_type": "code",
   "execution_count": 10,
   "id": "bfb8fffb-c9a4-4207-83b4-11c92d3862f2",
   "metadata": {},
   "outputs": [
    {
     "data": {
      "text/plain": [
       "bool"
      ]
     },
     "execution_count": 10,
     "metadata": {},
     "output_type": "execute_result"
    }
   ],
   "source": [
    "type(True)"
   ]
  },
  {
   "cell_type": "markdown",
   "id": "6b10c1d0-8a2b-4762-9751-2e26f88542c7",
   "metadata": {},
   "source": [
    "Variable assignment"
   ]
  },
  {
   "cell_type": "code",
   "execution_count": 11,
   "id": "74683b4b-201b-4cad-9730-05eb144c266b",
   "metadata": {},
   "outputs": [],
   "source": [
    "a=9"
   ]
  },
  {
   "cell_type": "code",
   "execution_count": 12,
   "id": "02409e31-6320-48ab-b0e4-a0418b14606d",
   "metadata": {},
   "outputs": [
    {
     "data": {
      "text/plain": [
       "int"
      ]
     },
     "execution_count": 12,
     "metadata": {},
     "output_type": "execute_result"
    }
   ],
   "source": [
    "type(a)"
   ]
  },
  {
   "cell_type": "code",
   "execution_count": 13,
   "id": "40dde484-b817-4e38-b798-8825e88661b3",
   "metadata": {},
   "outputs": [],
   "source": [
    "a=\"melanie\""
   ]
  },
  {
   "cell_type": "code",
   "execution_count": 14,
   "id": "d0c87fb3-353a-427e-8777-63a6c202d87b",
   "metadata": {},
   "outputs": [
    {
     "data": {
      "text/plain": [
       "str"
      ]
     },
     "execution_count": 14,
     "metadata": {},
     "output_type": "execute_result"
    }
   ],
   "source": [
    "type(a)"
   ]
  },
  {
   "cell_type": "code",
   "execution_count": 15,
   "id": "9dd4e7e0-1430-4028-9297-263074376a85",
   "metadata": {},
   "outputs": [],
   "source": [
    "first_name='melanie'\n",
    "last_name='rodrigues'"
   ]
  },
  {
   "cell_type": "code",
   "execution_count": 16,
   "id": "f3b0677a-a4c5-4346-98f5-51cd8b8650b8",
   "metadata": {},
   "outputs": [
    {
     "name": "stdout",
     "output_type": "stream",
     "text": [
      "my first name is melanie and my last name is rodrigues\n"
     ]
    }
   ],
   "source": [
    "print('my first name is {} and my last name is {}'.format(first_name,last_name))"
   ]
  },
  {
   "cell_type": "code",
   "execution_count": 18,
   "id": "922c59fe-c092-4831-ac3c-15d1bdf6057a",
   "metadata": {},
   "outputs": [
    {
     "name": "stdout",
     "output_type": "stream",
     "text": [
      "my first name is melanie and my last name is rodrigues\n"
     ]
    }
   ],
   "source": [
    "print('my first name is {first} and my last name is {last}'.format(last=last_name,first=first_name))"
   ]
  },
  {
   "cell_type": "code",
   "execution_count": 20,
   "id": "4e854ea5-9222-4f04-b894-b74e165f126e",
   "metadata": {},
   "outputs": [
    {
     "data": {
      "text/plain": [
       "6"
      ]
     },
     "execution_count": 20,
     "metadata": {},
     "output_type": "execute_result"
    }
   ],
   "source": [
    "len('number')"
   ]
  },
  {
   "cell_type": "code",
   "execution_count": null,
   "id": "b8aa5c99-3886-49fc-9db3-d74c193bbd26",
   "metadata": {},
   "outputs": [],
   "source": []
  }
 ],
 "metadata": {
  "kernelspec": {
   "display_name": "Python 3 (ipykernel)",
   "language": "python",
   "name": "python3"
  },
  "language_info": {
   "codemirror_mode": {
    "name": "ipython",
    "version": 3
   },
   "file_extension": ".py",
   "mimetype": "text/x-python",
   "name": "python",
   "nbconvert_exporter": "python",
   "pygments_lexer": "ipython3",
   "version": "3.11.7"
  }
 },
 "nbformat": 4,
 "nbformat_minor": 5
}
