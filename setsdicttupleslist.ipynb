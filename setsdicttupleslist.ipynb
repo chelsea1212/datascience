{
 "cells": [
  {
   "cell_type": "markdown",
   "id": "a5d24a65-035c-4b61-922e-55cd5680a635",
   "metadata": {},
   "source": [
    "Boolean functions"
   ]
  },
  {
   "cell_type": "code",
   "execution_count": 26,
   "id": "060fa1e2-4f0b-4d30-b248-ef33a0c47be8",
   "metadata": {},
   "outputs": [],
   "source": [
    "string=\"melanie123\""
   ]
  },
  {
   "cell_type": "code",
   "execution_count": 27,
   "id": "8bc8babf-5a7b-46cf-b3ae-4c53b1bd058f",
   "metadata": {},
   "outputs": [
    {
     "name": "stdout",
     "output_type": "stream",
     "text": [
      "True\n"
     ]
    }
   ],
   "source": [
    "print(string.isalnum())"
   ]
  },
  {
   "cell_type": "code",
   "execution_count": 29,
   "id": "01d649c8-bcad-411f-af19-dbfcbe01b925",
   "metadata": {},
   "outputs": [
    {
     "name": "stdout",
     "output_type": "stream",
     "text": [
      "False\n",
      "False\n",
      "False\n",
      "True\n",
      "False\n",
      "True\n"
     ]
    }
   ],
   "source": [
    "print(string.isalpha())\n",
    "print(string.isdigit())\n",
    "print(string.isupper())\n",
    "print(string.islower())\n",
    "print(string.endswith('m'))\n",
    "print(string.startswith('m'))"
   ]
  },
  {
   "cell_type": "markdown",
   "id": "309b0e3c-2048-44e1-b39e-57577f254560",
   "metadata": {},
   "source": [
    "Boolean Operators"
   ]
  },
  {
   "cell_type": "code",
   "execution_count": 30,
   "id": "5f77cbae-0949-4968-80d5-a7e30dcae3dc",
   "metadata": {},
   "outputs": [
    {
     "data": {
      "text/plain": [
       "True"
      ]
     },
     "execution_count": 30,
     "metadata": {},
     "output_type": "execute_result"
    }
   ],
   "source": [
    "True and True"
   ]
  },
  {
   "cell_type": "code",
   "execution_count": 31,
   "id": "b77774c6-9d72-4822-aa05-0f700236c06f",
   "metadata": {},
   "outputs": [
    {
     "data": {
      "text/plain": [
       "True"
      ]
     },
     "execution_count": 31,
     "metadata": {},
     "output_type": "execute_result"
    }
   ],
   "source": [
    "True or False"
   ]
  },
  {
   "cell_type": "code",
   "execution_count": 32,
   "id": "e714ad5b-1501-4755-972d-2815e2db52a7",
   "metadata": {},
   "outputs": [
    {
     "data": {
      "text/plain": [
       "True"
      ]
     },
     "execution_count": 32,
     "metadata": {},
     "output_type": "execute_result"
    }
   ],
   "source": [
    "False or True"
   ]
  },
  {
   "cell_type": "code",
   "execution_count": 43,
   "id": "3095d111-eda7-425b-865b-299e03bafcfc",
   "metadata": {},
   "outputs": [],
   "source": [
    "my_name=\"melanie\"\n",
    "my_digit=\"melanie3333\""
   ]
  },
  {
   "cell_type": "code",
   "execution_count": 42,
   "id": "1922e711-25a7-400d-b8fe-b2f574534c4f",
   "metadata": {},
   "outputs": [
    {
     "data": {
      "text/plain": [
       "True"
      ]
     },
     "execution_count": 42,
     "metadata": {},
     "output_type": "execute_result"
    }
   ],
   "source": [
    "my_name.isalnum()"
   ]
  },
  {
   "cell_type": "markdown",
   "id": "ee29cd57-0f71-4e0c-8ce4-ca4588b0896c",
   "metadata": {},
   "source": [
    "List"
   ]
  },
  {
   "cell_type": "code",
   "execution_count": 44,
   "id": "3afc42e2-780f-4701-9bf3-005f1b2782b2",
   "metadata": {},
   "outputs": [
    {
     "data": {
      "text/plain": [
       "list"
      ]
     },
     "execution_count": 44,
     "metadata": {},
     "output_type": "execute_result"
    }
   ],
   "source": [
    "type([])"
   ]
  },
  {
   "cell_type": "code",
   "execution_count": 45,
   "id": "0bcb5c15-243e-4a7f-8453-7f4930fd4eb9",
   "metadata": {},
   "outputs": [],
   "source": [
    "name=list()"
   ]
  },
  {
   "cell_type": "code",
   "execution_count": 46,
   "id": "af290d7d-ca50-49b5-8f47-a2669295b131",
   "metadata": {},
   "outputs": [
    {
     "data": {
      "text/plain": [
       "list"
      ]
     },
     "execution_count": 46,
     "metadata": {},
     "output_type": "execute_result"
    }
   ],
   "source": [
    "type(name)"
   ]
  },
  {
   "cell_type": "code",
   "execution_count": 47,
   "id": "66f53d67-b263-4ea8-8cd6-9c9ddaf34076",
   "metadata": {},
   "outputs": [],
   "source": [
    "a=[]"
   ]
  },
  {
   "cell_type": "code",
   "execution_count": 48,
   "id": "f64d3469-c67a-48c7-a2e0-aeaefcdc4e64",
   "metadata": {},
   "outputs": [
    {
     "data": {
      "text/plain": [
       "list"
      ]
     },
     "execution_count": 48,
     "metadata": {},
     "output_type": "execute_result"
    }
   ],
   "source": [
    "type(a)"
   ]
  },
  {
   "cell_type": "code",
   "execution_count": 49,
   "id": "cb185d32-6d9a-4a67-8640-ef63613b582e",
   "metadata": {},
   "outputs": [],
   "source": [
    "a=['melanie',1,23,4,5]\n"
   ]
  },
  {
   "cell_type": "code",
   "execution_count": 50,
   "id": "1185c044-b753-4f1a-b15d-b859a4f646c8",
   "metadata": {},
   "outputs": [
    {
     "data": {
      "text/plain": [
       "list"
      ]
     },
     "execution_count": 50,
     "metadata": {},
     "output_type": "execute_result"
    }
   ],
   "source": [
    "type(a)"
   ]
  },
  {
   "cell_type": "code",
   "execution_count": 51,
   "id": "ccae9714-5200-4be7-b07a-b357fe6775d9",
   "metadata": {},
   "outputs": [
    {
     "data": {
      "text/plain": [
       "5"
      ]
     },
     "execution_count": 51,
     "metadata": {},
     "output_type": "execute_result"
    }
   ],
   "source": [
    "len(a)"
   ]
  },
  {
   "cell_type": "code",
   "execution_count": 52,
   "id": "bfceb168-79d5-4aca-b7f3-2b6339363161",
   "metadata": {},
   "outputs": [
    {
     "data": {
      "text/plain": [
       "['melanie', 1, 23, 4, 5, 'shaina']"
      ]
     },
     "execution_count": 52,
     "metadata": {},
     "output_type": "execute_result"
    }
   ],
   "source": [
    "a.append('shaina')\n",
    "a"
   ]
  },
  {
   "cell_type": "code",
   "execution_count": 53,
   "id": "155b4b50-369b-4b85-b861-d7fe77aba546",
   "metadata": {},
   "outputs": [
    {
     "data": {
      "text/plain": [
       "4"
      ]
     },
     "execution_count": 53,
     "metadata": {},
     "output_type": "execute_result"
    }
   ],
   "source": [
    "a[3]"
   ]
  },
  {
   "cell_type": "code",
   "execution_count": 54,
   "id": "4ce0d935-313d-471f-bf3a-f8cd88212805",
   "metadata": {},
   "outputs": [
    {
     "data": {
      "text/plain": [
       "[23, 4, 5, 'shaina']"
      ]
     },
     "execution_count": 54,
     "metadata": {},
     "output_type": "execute_result"
    }
   ],
   "source": [
    " a[2:]"
   ]
  },
  {
   "cell_type": "code",
   "execution_count": 55,
   "id": "d596cc01-8708-4f2e-a206-bb19a6f29b54",
   "metadata": {},
   "outputs": [],
   "source": [
    "a.append(['lisa','stepi'])"
   ]
  },
  {
   "cell_type": "code",
   "execution_count": 56,
   "id": "84319acb-c00f-403a-b6eb-3f8f933b2361",
   "metadata": {},
   "outputs": [
    {
     "data": {
      "text/plain": [
       "['melanie', 1, 23, 4, 5, 'shaina', ['lisa', 'stepi']]"
      ]
     },
     "execution_count": 56,
     "metadata": {},
     "output_type": "execute_result"
    }
   ],
   "source": [
    "a"
   ]
  },
  {
   "cell_type": "code",
   "execution_count": 57,
   "id": "ff523460-42e0-4870-8af3-274e1b439f39",
   "metadata": {},
   "outputs": [],
   "source": [
    "a.insert(2,'naik')"
   ]
  },
  {
   "cell_type": "code",
   "execution_count": 58,
   "id": "10ea061d-5dc2-49df-9d5f-2319523e4b71",
   "metadata": {},
   "outputs": [
    {
     "data": {
      "text/plain": [
       "['melanie', 1, 'naik', 23, 4, 5, 'shaina', ['lisa', 'stepi']]"
      ]
     },
     "execution_count": 58,
     "metadata": {},
     "output_type": "execute_result"
    }
   ],
   "source": [
    "a"
   ]
  },
  {
   "cell_type": "code",
   "execution_count": 59,
   "id": "6c7a1b3d-3540-4815-803f-1c879b883da4",
   "metadata": {},
   "outputs": [
    {
     "data": {
      "text/plain": [
       "[1, 2, 3, 4]"
      ]
     },
     "execution_count": 59,
     "metadata": {},
     "output_type": "execute_result"
    }
   ],
   "source": [
    "my_list=[1,2,3,4]\n",
    "my_list"
   ]
  },
  {
   "cell_type": "code",
   "execution_count": 61,
   "id": "61bf2042-1002-44e5-899f-e99533c1076d",
   "metadata": {},
   "outputs": [],
   "source": [
    "my_list.extend([5,6,7,8])"
   ]
  },
  {
   "cell_type": "code",
   "execution_count": 62,
   "id": "d8f87ef0-2b56-43ee-a8db-a7c63bde6f52",
   "metadata": {},
   "outputs": [
    {
     "data": {
      "text/plain": [
       "[1, 2, 3, 4, 5, 6, 7, 8]"
      ]
     },
     "execution_count": 62,
     "metadata": {},
     "output_type": "execute_result"
    }
   ],
   "source": [
    "my_list"
   ]
  },
  {
   "cell_type": "code",
   "execution_count": 63,
   "id": "d82b57c2-fd30-4397-90f9-32cafc3f8abc",
   "metadata": {},
   "outputs": [
    {
     "data": {
      "text/plain": [
       "36"
      ]
     },
     "execution_count": 63,
     "metadata": {},
     "output_type": "execute_result"
    }
   ],
   "source": [
    "sum(my_list)"
   ]
  },
  {
   "cell_type": "code",
   "execution_count": 64,
   "id": "0220fb53-4ca0-4f7d-aea9-5a5dd99fdd49",
   "metadata": {},
   "outputs": [
    {
     "data": {
      "text/plain": [
       "8"
      ]
     },
     "execution_count": 64,
     "metadata": {},
     "output_type": "execute_result"
    }
   ],
   "source": [
    "my_list.pop()"
   ]
  },
  {
   "cell_type": "code",
   "execution_count": 66,
   "id": "d82752bc-09d7-4bb5-b7d2-60661e89c920",
   "metadata": {},
   "outputs": [
    {
     "data": {
      "text/plain": [
       "1"
      ]
     },
     "execution_count": 66,
     "metadata": {},
     "output_type": "execute_result"
    }
   ],
   "source": [
    "my_list.pop(0)"
   ]
  },
  {
   "cell_type": "code",
   "execution_count": 67,
   "id": "c9533c61-887f-42bc-bac7-e30d2a770957",
   "metadata": {},
   "outputs": [
    {
     "data": {
      "text/plain": [
       "[2, 3, 4, 5, 6, 7]"
      ]
     },
     "execution_count": 67,
     "metadata": {},
     "output_type": "execute_result"
    }
   ],
   "source": [
    "my_list"
   ]
  },
  {
   "cell_type": "code",
   "execution_count": 68,
   "id": "5a026c68-7332-4b08-8bc4-22314d4b6952",
   "metadata": {},
   "outputs": [],
   "source": [
    "b=[12,1,3,1,1,3]"
   ]
  },
  {
   "cell_type": "code",
   "execution_count": 69,
   "id": "57dd8d2b-659b-4fc2-905c-50f82d146845",
   "metadata": {},
   "outputs": [
    {
     "data": {
      "text/plain": [
       "3"
      ]
     },
     "execution_count": 69,
     "metadata": {},
     "output_type": "execute_result"
    }
   ],
   "source": [
    "b.count(1)"
   ]
  },
  {
   "cell_type": "code",
   "execution_count": 70,
   "id": "95780598-4d54-4ec8-ad13-ce9400f97840",
   "metadata": {},
   "outputs": [
    {
     "data": {
      "text/plain": [
       "12"
      ]
     },
     "execution_count": 70,
     "metadata": {},
     "output_type": "execute_result"
    }
   ],
   "source": [
    "max(b)"
   ]
  },
  {
   "cell_type": "code",
   "execution_count": 71,
   "id": "5dd73f81-b70f-4461-bf8b-cc6856d72059",
   "metadata": {},
   "outputs": [
    {
     "data": {
      "text/plain": [
       "1"
      ]
     },
     "execution_count": 71,
     "metadata": {},
     "output_type": "execute_result"
    }
   ],
   "source": [
    "min(b)"
   ]
  },
  {
   "cell_type": "code",
   "execution_count": 72,
   "id": "9f96933d-0d1b-42b2-89fe-0be24461898e",
   "metadata": {},
   "outputs": [
    {
     "data": {
      "text/plain": [
       "[12, 1, 3, 1, 1, 3, 12, 1, 3, 1, 1, 3]"
      ]
     },
     "execution_count": 72,
     "metadata": {},
     "output_type": "execute_result"
    }
   ],
   "source": [
    "b*2"
   ]
  },
  {
   "cell_type": "markdown",
   "id": "e41847a8-39d6-4cc2-8f83-ef4a95d50949",
   "metadata": {},
   "source": [
    "SETS"
   ]
  },
  {
   "cell_type": "code",
   "execution_count": 73,
   "id": "23e6f3eb-6711-4a9f-8f56-7e21fff7361c",
   "metadata": {},
   "outputs": [
    {
     "name": "stdout",
     "output_type": "stream",
     "text": [
      "set()\n"
     ]
    }
   ],
   "source": [
    "set_var=set()\n",
    "print(set_var)"
   ]
  },
  {
   "cell_type": "code",
   "execution_count": 74,
   "id": "ca962167-4c62-49f6-943a-b82e45ef3a4a",
   "metadata": {},
   "outputs": [
    {
     "data": {
      "text/plain": [
       "set"
      ]
     },
     "execution_count": 74,
     "metadata": {},
     "output_type": "execute_result"
    }
   ],
   "source": [
    "type(set_var)"
   ]
  },
  {
   "cell_type": "code",
   "execution_count": 75,
   "id": "ce8b18e2-b3ce-4426-8e61-926a2011bad0",
   "metadata": {},
   "outputs": [
    {
     "data": {
      "text/plain": [
       "{1, 2, 3, 4}"
      ]
     },
     "execution_count": 75,
     "metadata": {},
     "output_type": "execute_result"
    }
   ],
   "source": [
    "set_var={1,2,3,4,3}\n",
    "set_var"
   ]
  },
  {
   "cell_type": "code",
   "execution_count": 77,
   "id": "afe3e32e-6473-4c92-ac3e-cd4ca90daaed",
   "metadata": {},
   "outputs": [],
   "source": [
    "set_var={'melanie','shaina'}\n"
   ]
  },
  {
   "cell_type": "code",
   "execution_count": 79,
   "id": "1cb72981-e281-41be-ba1e-7492d7f32d37",
   "metadata": {},
   "outputs": [],
   "source": [
    "set_var.add(\"stepi\")"
   ]
  },
  {
   "cell_type": "code",
   "execution_count": 80,
   "id": "8c4df705-1607-4298-a34c-48068aff8299",
   "metadata": {},
   "outputs": [
    {
     "data": {
      "text/plain": [
       "{'melanie', 'shaina', 'stepi'}"
      ]
     },
     "execution_count": 80,
     "metadata": {},
     "output_type": "execute_result"
    }
   ],
   "source": [
    "set_var"
   ]
  },
  {
   "cell_type": "code",
   "execution_count": 82,
   "id": "acc6b363-2756-428c-b13c-4ced217311da",
   "metadata": {},
   "outputs": [],
   "source": [
    "set1={\"avengers\",\"ironman\"}\n",
    "set2={\"avengers\",\"ironman\",\"spiderman\"}"
   ]
  },
  {
   "cell_type": "code",
   "execution_count": 84,
   "id": "b274f8aa-f41d-4821-a47f-12af66eadc3e",
   "metadata": {},
   "outputs": [
    {
     "data": {
      "text/plain": [
       "{'spiderman'}"
      ]
     },
     "execution_count": 84,
     "metadata": {},
     "output_type": "execute_result"
    }
   ],
   "source": [
    "set2.difference(set1)"
   ]
  },
  {
   "cell_type": "code",
   "execution_count": 85,
   "id": "6ea12cfe-d921-4c5c-b3c9-526d35c03bdd",
   "metadata": {},
   "outputs": [
    {
     "data": {
      "text/plain": [
       "{'avengers', 'ironman', 'spiderman'}"
      ]
     },
     "execution_count": 85,
     "metadata": {},
     "output_type": "execute_result"
    }
   ],
   "source": [
    "set2"
   ]
  },
  {
   "cell_type": "code",
   "execution_count": 87,
   "id": "c1b2322e-8b4a-48c9-9e3a-20575d5564b2",
   "metadata": {},
   "outputs": [],
   "source": [
    "set2.difference_update(set1)"
   ]
  },
  {
   "cell_type": "code",
   "execution_count": 88,
   "id": "d3a2583b-ac63-49e0-b7e3-04979899f9a0",
   "metadata": {},
   "outputs": [
    {
     "data": {
      "text/plain": [
       "{'spiderman'}"
      ]
     },
     "execution_count": 88,
     "metadata": {},
     "output_type": "execute_result"
    }
   ],
   "source": [
    "set2"
   ]
  },
  {
   "cell_type": "markdown",
   "id": "17258f0c-6c5f-4133-96fe-9839cd62a1d9",
   "metadata": {},
   "source": [
    "Dictionaries"
   ]
  },
  {
   "cell_type": "code",
   "execution_count": 89,
   "id": "749e0f70-794e-4e72-ba5f-f7b681611178",
   "metadata": {},
   "outputs": [],
   "source": [
    "dic={}"
   ]
  },
  {
   "cell_type": "code",
   "execution_count": 90,
   "id": "6ea7ff37-2dc2-4bc0-98bf-9f025a91e75e",
   "metadata": {},
   "outputs": [
    {
     "data": {
      "text/plain": [
       "dict"
      ]
     },
     "execution_count": 90,
     "metadata": {},
     "output_type": "execute_result"
    }
   ],
   "source": [
    "type(dic)"
   ]
  },
  {
   "cell_type": "code",
   "execution_count": 91,
   "id": "2a3a188d-012e-4afb-bcc2-452ea143addc",
   "metadata": {},
   "outputs": [],
   "source": [
    "dict={\"car1\":\"audi\",\"car2\":\"alto\"}"
   ]
  },
  {
   "cell_type": "code",
   "execution_count": 92,
   "id": "4b24133f-2197-426b-a901-da7a1476af81",
   "metadata": {},
   "outputs": [
    {
     "data": {
      "text/plain": [
       "'audi'"
      ]
     },
     "execution_count": 92,
     "metadata": {},
     "output_type": "execute_result"
    }
   ],
   "source": [
    "dict[\"car1\"]"
   ]
  },
  {
   "cell_type": "code",
   "execution_count": 94,
   "id": "5b0c4775-fc04-4b27-89ab-aab8f8ed2bad",
   "metadata": {},
   "outputs": [
    {
     "name": "stdout",
     "output_type": "stream",
     "text": [
      "car1\n",
      "car2\n"
     ]
    }
   ],
   "source": [
    "for x in dict:\n",
    "    print(x)"
   ]
  },
  {
   "cell_type": "code",
   "execution_count": 95,
   "id": "27100730-0b7f-4295-b9f9-90967d10ea78",
   "metadata": {},
   "outputs": [
    {
     "name": "stdout",
     "output_type": "stream",
     "text": [
      "audi\n",
      "alto\n"
     ]
    }
   ],
   "source": [
    "for x in dict.values():\n",
    "    print(x)\n"
   ]
  },
  {
   "cell_type": "code",
   "execution_count": 96,
   "id": "8a659ec6-d8c4-41a4-b880-98bdbc511188",
   "metadata": {},
   "outputs": [
    {
     "name": "stdout",
     "output_type": "stream",
     "text": [
      "('car1', 'audi')\n",
      "('car2', 'alto')\n"
     ]
    }
   ],
   "source": [
    "for x in dict.items():\n",
    "    print(x)"
   ]
  },
  {
   "cell_type": "code",
   "execution_count": 97,
   "id": "d8fa19ab-bba2-4cdd-8282-0b3814c6ec84",
   "metadata": {},
   "outputs": [],
   "source": [
    "dict['car3']='maruti'"
   ]
  },
  {
   "cell_type": "code",
   "execution_count": 98,
   "id": "4ae08274-085d-4abb-9456-c8dd9eeee9be",
   "metadata": {},
   "outputs": [
    {
     "data": {
      "text/plain": [
       "{'car1': 'audi', 'car2': 'alto', 'car3': 'maruti'}"
      ]
     },
     "execution_count": 98,
     "metadata": {},
     "output_type": "execute_result"
    }
   ],
   "source": [
    "dict"
   ]
  },
  {
   "cell_type": "code",
   "execution_count": 99,
   "id": "da00b343-3752-4560-b370-28104b6b928e",
   "metadata": {},
   "outputs": [],
   "source": [
    "dict['car1']='toyota'"
   ]
  },
  {
   "cell_type": "code",
   "execution_count": 100,
   "id": "1b90082c-b008-49a6-8592-d119d6c83fb3",
   "metadata": {},
   "outputs": [
    {
     "data": {
      "text/plain": [
       "{'car1': 'toyota', 'car2': 'alto', 'car3': 'maruti'}"
      ]
     },
     "execution_count": 100,
     "metadata": {},
     "output_type": "execute_result"
    }
   ],
   "source": [
    "dict"
   ]
  },
  {
   "cell_type": "markdown",
   "id": "1aac1d78-b348-4662-a366-44ba3408982b",
   "metadata": {},
   "source": [
    "Nested Dictionary"
   ]
  },
  {
   "cell_type": "code",
   "execution_count": 102,
   "id": "ccb37a7b-9d44-4240-9741-ca8a14a5bfbb",
   "metadata": {},
   "outputs": [],
   "source": [
    "model_car1={'mercedes':1960}\n",
    "model_car2={'audi':1900}\n",
    "model_type={'car1':model_car1,'car2':model_car2}"
   ]
  },
  {
   "cell_type": "code",
   "execution_count": 103,
   "id": "4b69d318-f3e1-4f4e-9060-4f59b799d78d",
   "metadata": {},
   "outputs": [
    {
     "data": {
      "text/plain": [
       "{'car1': {'mercedes': 1960}, 'car2': {'audi': 1900}}"
      ]
     },
     "execution_count": 103,
     "metadata": {},
     "output_type": "execute_result"
    }
   ],
   "source": [
    "model_type"
   ]
  },
  {
   "cell_type": "code",
   "execution_count": 104,
   "id": "544aa1bd-848e-428d-aa1e-30d2aef1bb4a",
   "metadata": {},
   "outputs": [
    {
     "data": {
      "text/plain": [
       "{'mercedes': 1960}"
      ]
     },
     "execution_count": 104,
     "metadata": {},
     "output_type": "execute_result"
    }
   ],
   "source": [
    "model_type['car1']"
   ]
  },
  {
   "cell_type": "code",
   "execution_count": 105,
   "id": "0b648f1c-05ef-4574-9eed-868081e2db91",
   "metadata": {},
   "outputs": [
    {
     "name": "stdout",
     "output_type": "stream",
     "text": [
      "1960\n"
     ]
    }
   ],
   "source": [
    "print(model_type['car1']['mercedes'])"
   ]
  },
  {
   "cell_type": "markdown",
   "id": "2414063b-13d5-4662-afa8-c7e83b8ba63c",
   "metadata": {},
   "source": [
    "Tuple"
   ]
  },
  {
   "cell_type": "code",
   "execution_count": 106,
   "id": "cc26d8ac-74fd-4112-a051-b0e0e6c815de",
   "metadata": {},
   "outputs": [],
   "source": [
    "my_tuple=tuple()"
   ]
  },
  {
   "cell_type": "code",
   "execution_count": 107,
   "id": "ca928434-9081-4d88-a91a-f59caff27607",
   "metadata": {},
   "outputs": [
    {
     "data": {
      "text/plain": [
       "tuple"
      ]
     },
     "execution_count": 107,
     "metadata": {},
     "output_type": "execute_result"
    }
   ],
   "source": [
    "type(my_tuple)"
   ]
  },
  {
   "cell_type": "code",
   "execution_count": 108,
   "id": "97b4e894-3557-4fcd-9590-6a248b747f28",
   "metadata": {},
   "outputs": [
    {
     "data": {
      "text/plain": [
       "('krish', 'naik')"
      ]
     },
     "execution_count": 108,
     "metadata": {},
     "output_type": "execute_result"
    }
   ],
   "source": [
    "mytuple=(\"krish\",\"naik\")\n",
    "mytuple"
   ]
  },
  {
   "cell_type": "code",
   "execution_count": null,
   "id": "d1ab1cab-dd04-4739-9ea8-f97ba2386eaa",
   "metadata": {},
   "outputs": [],
   "source": []
  },
  {
   "cell_type": "code",
   "execution_count": null,
   "id": "188b458c-37f9-4d83-ad5d-1c9ccd2882d1",
   "metadata": {},
   "outputs": [],
   "source": []
  }
 ],
 "metadata": {
  "kernelspec": {
   "display_name": "Python 3 (ipykernel)",
   "language": "python",
   "name": "python3"
  },
  "language_info": {
   "codemirror_mode": {
    "name": "ipython",
    "version": 3
   },
   "file_extension": ".py",
   "mimetype": "text/x-python",
   "name": "python",
   "nbconvert_exporter": "python",
   "pygments_lexer": "ipython3",
   "version": "3.11.7"
  }
 },
 "nbformat": 4,
 "nbformat_minor": 5
}
