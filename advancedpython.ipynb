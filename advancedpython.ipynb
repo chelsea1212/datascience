{
 "cells": [
  {
   "cell_type": "markdown",
   "id": "7e86173a-3536-468c-9e2b-786aea264a6c",
   "metadata": {},
   "source": [
    "Advanced Python"
   ]
  },
  {
   "cell_type": "markdown",
   "id": "79cd6f8f-3b14-4b99-b4de-eaf9e352bd57",
   "metadata": {},
   "source": [
    "OOPs tutorial"
   ]
  },
  {
   "cell_type": "code",
   "execution_count": 2,
   "id": "b79e945b-b9f2-4e7c-bdd4-17082ed09aea",
   "metadata": {},
   "outputs": [],
   "source": [
    "class car:\n",
    "    pass"
   ]
  },
  {
   "cell_type": "code",
   "execution_count": 3,
   "id": "e037dc75-b816-40e9-9422-ae9998d76fa7",
   "metadata": {},
   "outputs": [],
   "source": [
    "car1=car()"
   ]
  },
  {
   "cell_type": "code",
   "execution_count": 4,
   "id": "5263959f-85be-4036-ba5e-f40e716447f1",
   "metadata": {},
   "outputs": [],
   "source": [
    "car1.windows=5\n",
    "car1.mats=10"
   ]
  },
  {
   "cell_type": "code",
   "execution_count": 5,
   "id": "d452b0be-74c0-42c3-afc3-8da7ca982a95",
   "metadata": {},
   "outputs": [
    {
     "name": "stdout",
     "output_type": "stream",
     "text": [
      "5\n"
     ]
    }
   ],
   "source": [
    "print(car1.windows)"
   ]
  },
  {
   "cell_type": "code",
   "execution_count": 6,
   "id": "1a60c3ff-84c2-44dc-b9c3-a2eff02e9c11",
   "metadata": {},
   "outputs": [],
   "source": [
    "car2=car()"
   ]
  },
  {
   "cell_type": "code",
   "execution_count": 8,
   "id": "9eee317d-f6ef-447e-b2d6-d80739faae8f",
   "metadata": {},
   "outputs": [],
   "source": [
    "car2.windows=6"
   ]
  },
  {
   "cell_type": "code",
   "execution_count": 9,
   "id": "6ff7d335-e734-49c5-ab83-c65ff134c294",
   "metadata": {},
   "outputs": [
    {
     "name": "stdout",
     "output_type": "stream",
     "text": [
      "6\n"
     ]
    }
   ],
   "source": [
    "print(car2.windows)"
   ]
  },
  {
   "cell_type": "markdown",
   "id": "bdf521d3-7bfd-4793-bc0c-c35742df591d",
   "metadata": {},
   "source": [
    "#Good approach"
   ]
  },
  {
   "cell_type": "code",
   "execution_count": 19,
   "id": "8bec1c14-4600-424d-bd17-cd47b3d16f10",
   "metadata": {},
   "outputs": [],
   "source": [
    "class house:\n",
    "    def __init__(self,windows,doors):\n",
    "        self.window=windows\n",
    "        self.door=doors\n",
    "    def self_driving(self):\n",
    "        return \"my housse has {} doors\".format(self.door)"
   ]
  },
  {
   "cell_type": "code",
   "execution_count": 20,
   "id": "ef95f847-ce08-4347-9acd-3785ec199bdc",
   "metadata": {},
   "outputs": [],
   "source": [
    "house1=house(10,2)"
   ]
  },
  {
   "cell_type": "code",
   "execution_count": 21,
   "id": "8556be4b-a845-4e74-b97f-86e7b298b1db",
   "metadata": {},
   "outputs": [
    {
     "data": {
      "text/plain": [
       "'my housse has 2 doors'"
      ]
     },
     "execution_count": 21,
     "metadata": {},
     "output_type": "execute_result"
    }
   ],
   "source": [
    "house1.self_driving()"
   ]
  },
  {
   "cell_type": "code",
   "execution_count": 22,
   "id": "1c4bfe9d-c107-4f31-b324-3ce268c77916",
   "metadata": {},
   "outputs": [
    {
     "name": "stdout",
     "output_type": "stream",
     "text": [
      "10\n"
     ]
    }
   ],
   "source": [
    "print(house1.window)"
   ]
  },
  {
   "cell_type": "markdown",
   "id": "70887829-f8f5-413a-a677-a6d62c277929",
   "metadata": {},
   "source": [
    "EXCEPTION HANDLING"
   ]
  },
  {
   "cell_type": "code",
   "execution_count": 24,
   "id": "52df26a6-4921-4f7c-9c3a-f47e9c52ea4b",
   "metadata": {},
   "outputs": [
    {
     "name": "stdout",
     "output_type": "stream",
     "text": [
      "some problem must have occured\n"
     ]
    }
   ],
   "source": [
    "try:\n",
    "    a=b\n",
    "except:\n",
    "    print('some problem must have occured')"
   ]
  },
  {
   "cell_type": "code",
   "execution_count": 25,
   "id": "954763dd-fff3-4bbc-b29d-9149838076f9",
   "metadata": {},
   "outputs": [
    {
     "name": "stdout",
     "output_type": "stream",
     "text": [
      "name 'b' is not defined\n"
     ]
    }
   ],
   "source": [
    "try:\n",
    "    a=b\n",
    "except Exception as ex:\n",
    "    print(ex)"
   ]
  },
  {
   "cell_type": "code",
   "execution_count": 27,
   "id": "2b52a15a-0a32-4061-8d70-f68b9cd699b9",
   "metadata": {},
   "outputs": [
    {
     "name": "stdout",
     "output_type": "stream",
     "text": [
      "Varible b not defined by user\n"
     ]
    }
   ],
   "source": [
    "try:\n",
    "    a=b\n",
    "except NameError as ex1:\n",
    "    print('Varible b not defined by user')\n",
    "except Exception as ex:\n",
    "    print(ex)"
   ]
  },
  {
   "cell_type": "code",
   "execution_count": 29,
   "id": "9f33ccab-63d6-412b-8ab4-d6b800a8a89d",
   "metadata": {},
   "outputs": [
    {
     "name": "stdout",
     "output_type": "stream",
     "text": [
      "string and number cant be added\n"
     ]
    }
   ],
   "source": [
    "try:\n",
    "    a=1\n",
    "    b=\"s\"\n",
    "    c=a+b\n",
    "    print(c)\n",
    "except TypeError:\n",
    "    print('string and number cant be added')\n",
    "except Exception as ex:\n",
    "    print(ex)"
   ]
  },
  {
   "cell_type": "code",
   "execution_count": 35,
   "id": "bb47a6a4-cc40-4355-a12a-145ea6c31876",
   "metadata": {},
   "outputs": [
    {
     "name": "stdin",
     "output_type": "stream",
     "text": [
      "Enter number 1: 12\n",
      "Enter number 2: 4\n"
     ]
    },
    {
     "name": "stdout",
     "output_type": "stream",
     "text": [
      "3.0\n"
     ]
    }
   ],
   "source": [
    "try:\n",
    "    a=int(input('Enter number 1:'))\n",
    "    b=int(input('Enter number 2:'))\n",
    "    c=a/b\n",
    "except ZeroDivisionError:\n",
    "    print('please provide the second number greater than 0')\n",
    "except Exception as ex:\n",
    "    print(ex)\n",
    "else:\n",
    "    print(c)"
   ]
  },
  {
   "cell_type": "code",
   "execution_count": 36,
   "id": "a701b3dd-2c67-412d-a583-71a72e8bd023",
   "metadata": {},
   "outputs": [
    {
     "name": "stdin",
     "output_type": "stream",
     "text": [
      "Enter number 1: 12\n",
      "Enter number 2: 4\n"
     ]
    },
    {
     "name": "stdout",
     "output_type": "stream",
     "text": [
      "3.0\n",
      "execution is done\n"
     ]
    }
   ],
   "source": [
    "#try else finally\n",
    "try:\n",
    "    a=int(input('Enter number 1:'))\n",
    "    b=int(input('Enter number 2:'))\n",
    "    c=a/b\n",
    "except ZeroDivisionError:\n",
    "    print('please provide the second number greater than 0')\n",
    "except Exception as ex:\n",
    "    print(ex)\n",
    "else:\n",
    "    print(c)\n",
    "finally:\n",
    "    print('execution is done')"
   ]
  },
  {
   "cell_type": "markdown",
   "id": "7d928845-65c4-436e-b2b0-7dc317d9eda1",
   "metadata": {},
   "source": [
    "Custom Exception"
   ]
  },
  {
   "cell_type": "code",
   "execution_count": 37,
   "id": "a956081f-1cec-4b51-a989-b4fea1db3d3d",
   "metadata": {},
   "outputs": [],
   "source": [
    "class Error(Exception):\n",
    "    pass\n",
    "class DOBException(Error):\n",
    "    pass"
   ]
  },
  {
   "cell_type": "code",
   "execution_count": 42,
   "id": "bf25c2b1-b26b-499c-8d14-3762e592b60e",
   "metadata": {},
   "outputs": [
    {
     "name": "stdin",
     "output_type": "stream",
     "text": [
      "Enter your age: 31\n"
     ]
    },
    {
     "name": "stdout",
     "output_type": "stream",
     "text": [
      "sorry you cant apply for the exams\n"
     ]
    }
   ],
   "source": [
    "age=int(input(\"Enter your age:\"))\n",
    "try:\n",
    "    if age<=30 & age>=20:\n",
    "        print(\"you can apply  for the exam\")\n",
    "    else: \n",
    "        raise DOBException\n",
    "except DOBException:\n",
    "    print(\"sorry you cant apply for the exams\")\n",
    "    "
   ]
  },
  {
   "cell_type": "markdown",
   "id": "bf2a6c52-cdff-492a-9102-2d2dba6c9700",
   "metadata": {},
   "source": [
    "public private and protected"
   ]
  },
  {
   "cell_type": "code",
   "execution_count": 43,
   "id": "dca1a547-e771-413a-988a-b11d6698f2eb",
   "metadata": {},
   "outputs": [],
   "source": [
    "#class variables are public"
   ]
  },
  {
   "cell_type": "code",
   "execution_count": 44,
   "id": "0d8cc9d4-4800-4553-95a3-2bcf4c699926",
   "metadata": {},
   "outputs": [],
   "source": [
    "class car:\n",
    "    def __init__(self,windows,doors):\n",
    "        self.window=windows\n",
    "        self.door=doors"
   ]
  },
  {
   "cell_type": "code",
   "execution_count": 45,
   "id": "34099011-db73-4634-a965-0824cbb75752",
   "metadata": {},
   "outputs": [],
   "source": [
    "car1=car(4,4)"
   ]
  },
  {
   "cell_type": "code",
   "execution_count": 46,
   "id": "cfa6814f-4d5f-44c2-9e2e-e30f7a4a7f68",
   "metadata": {},
   "outputs": [],
   "source": [
    "car1.window=5"
   ]
  },
  {
   "cell_type": "code",
   "execution_count": 47,
   "id": "1e779e9f-83da-41e8-95ee-4007d91a4d1a",
   "metadata": {},
   "outputs": [
    {
     "data": {
      "text/plain": [
       "5"
      ]
     },
     "execution_count": 47,
     "metadata": {},
     "output_type": "execute_result"
    }
   ],
   "source": [
    "car1.window"
   ]
  },
  {
   "cell_type": "markdown",
   "id": "a1e8189b-3c2b-4b3b-a18b-54e58b6dc1c9",
   "metadata": {},
   "source": [
    "#variables are protected and can be overriden and accessed only via subclass"
   ]
  },
  {
   "cell_type": "code",
   "execution_count": 55,
   "id": "9fcde2fd-4b93-4a72-8c67-88ee0ac4c459",
   "metadata": {},
   "outputs": [],
   "source": [
    "class car:\n",
    "    def __init__(self,windows,doors):\n",
    "        self._window=windows\n",
    "        self._door=doors\n",
    "class Truck(car):\n",
    "    def __init__(self,windows,doors,horsepower):\n",
    "        super().__init__(windows,doors)\n",
    "        self.horsepower=horsepower"
   ]
  },
  {
   "cell_type": "code",
   "execution_count": 56,
   "id": "3eacf3b4-0b52-4088-aca0-e2c686f114d1",
   "metadata": {},
   "outputs": [],
   "source": [
    "truck=Truck(3,2,3)"
   ]
  },
  {
   "cell_type": "code",
   "execution_count": 57,
   "id": "d6d76518-61bd-4f0b-b4f7-5110ec1ab2d2",
   "metadata": {},
   "outputs": [],
   "source": [
    "truck._window=5"
   ]
  },
  {
   "cell_type": "code",
   "execution_count": 58,
   "id": "e572fd12-7b5f-496b-92c5-171ac6d95c77",
   "metadata": {},
   "outputs": [
    {
     "data": {
      "text/plain": [
       "5"
      ]
     },
     "execution_count": 58,
     "metadata": {},
     "output_type": "execute_result"
    }
   ],
   "source": [
    "truck._window"
   ]
  },
  {
   "cell_type": "markdown",
   "id": "9c49f718-f39e-4872-8da7-ac08ab1d81af",
   "metadata": {},
   "source": [
    "#variables are private and cannot be accessed or overridden"
   ]
  },
  {
   "cell_type": "code",
   "execution_count": 60,
   "id": "b5a56ef1-d41f-4ceb-bd4f-ed9943171cbc",
   "metadata": {},
   "outputs": [],
   "source": [
    "class car:\n",
    "    def __init__(self,windows,doors):\n",
    "        self.__window=windows\n",
    "        self.__door=doors"
   ]
  },
  {
   "cell_type": "code",
   "execution_count": 61,
   "id": "c802f838-14ac-4671-b268-45138ab888ac",
   "metadata": {},
   "outputs": [],
   "source": [
    "audi=car(4,5)"
   ]
  },
  {
   "cell_type": "code",
   "execution_count": 62,
   "id": "846623ee-4d60-4e5c-a6d7-8d7d3d7069db",
   "metadata": {},
   "outputs": [
    {
     "data": {
      "text/plain": [
       "['__class__',\n",
       " '__delattr__',\n",
       " '__dict__',\n",
       " '__dir__',\n",
       " '__doc__',\n",
       " '__eq__',\n",
       " '__format__',\n",
       " '__ge__',\n",
       " '__getattribute__',\n",
       " '__getstate__',\n",
       " '__gt__',\n",
       " '__hash__',\n",
       " '__init__',\n",
       " '__init_subclass__',\n",
       " '__le__',\n",
       " '__lt__',\n",
       " '__module__',\n",
       " '__ne__',\n",
       " '__new__',\n",
       " '__reduce__',\n",
       " '__reduce_ex__',\n",
       " '__repr__',\n",
       " '__setattr__',\n",
       " '__sizeof__',\n",
       " '__str__',\n",
       " '__subclasshook__',\n",
       " '__weakref__',\n",
       " '_car__door',\n",
       " '_car__window']"
      ]
     },
     "execution_count": 62,
     "metadata": {},
     "output_type": "execute_result"
    }
   ],
   "source": [
    "dir(audi)"
   ]
  },
  {
   "cell_type": "markdown",
   "id": "8a18b4ef-a44f-44f5-90fa-2b3cf07f3870",
   "metadata": {},
   "source": [
    "Python Inheritance"
   ]
  },
  {
   "cell_type": "code",
   "execution_count": 1,
   "id": "e5f18cb5-1881-4af6-ac5d-65c00747e190",
   "metadata": {},
   "outputs": [],
   "source": [
    "class car:\n",
    "    def __init__(self,windows,doors):\n",
    "        self.window=windows\n",
    "        self.door=doors\n",
    "    def drive(self):\n",
    "        print(\"He is driving the car\")"
   ]
  },
  {
   "cell_type": "code",
   "execution_count": 3,
   "id": "e62cdff8-216a-4909-9173-da70fd02bbd8",
   "metadata": {},
   "outputs": [],
   "source": [
    "class audi(car):\n",
    "    def __init__(self,windows,doors,hp):\n",
    "        super().__init__(windows,doors)\n",
    "        self.hp=hp\n",
    "    def selfdriving(self):\n",
    "        print(\"audi can self drive\")"
   ]
  },
  {
   "cell_type": "code",
   "execution_count": 4,
   "id": "07ffb1ae-e845-4c7e-b135-6dccc0653891",
   "metadata": {},
   "outputs": [],
   "source": [
    "audi1=audi(1,2,3)"
   ]
  },
  {
   "cell_type": "code",
   "execution_count": 5,
   "id": "2af68190-485f-4dcd-b4fe-3ca4b453327d",
   "metadata": {},
   "outputs": [
    {
     "data": {
      "text/plain": [
       "1"
      ]
     },
     "execution_count": 5,
     "metadata": {},
     "output_type": "execute_result"
    }
   ],
   "source": [
    "audi1.window"
   ]
  },
  {
   "cell_type": "code",
   "execution_count": 7,
   "id": "97c8b9d1-8b71-459e-8a52-03bd59039cbb",
   "metadata": {},
   "outputs": [
    {
     "data": {
      "text/plain": [
       "2"
      ]
     },
     "execution_count": 7,
     "metadata": {},
     "output_type": "execute_result"
    }
   ],
   "source": [
    "audi1.door"
   ]
  },
  {
   "cell_type": "code",
   "execution_count": 9,
   "id": "9299db9c-0222-4d85-a0b0-71da6fb3413f",
   "metadata": {},
   "outputs": [
    {
     "data": {
      "text/plain": [
       "['__class__',\n",
       " '__delattr__',\n",
       " '__dict__',\n",
       " '__dir__',\n",
       " '__doc__',\n",
       " '__eq__',\n",
       " '__format__',\n",
       " '__ge__',\n",
       " '__getattribute__',\n",
       " '__getstate__',\n",
       " '__gt__',\n",
       " '__hash__',\n",
       " '__init__',\n",
       " '__init_subclass__',\n",
       " '__le__',\n",
       " '__lt__',\n",
       " '__module__',\n",
       " '__ne__',\n",
       " '__new__',\n",
       " '__reduce__',\n",
       " '__reduce_ex__',\n",
       " '__repr__',\n",
       " '__setattr__',\n",
       " '__sizeof__',\n",
       " '__str__',\n",
       " '__subclasshook__',\n",
       " '__weakref__',\n",
       " 'door',\n",
       " 'drive',\n",
       " 'hp',\n",
       " 'selfdriving',\n",
       " 'window']"
      ]
     },
     "execution_count": 9,
     "metadata": {},
     "output_type": "execute_result"
    }
   ],
   "source": [
    "dir(audi1)"
   ]
  },
  {
   "cell_type": "code",
   "execution_count": 11,
   "id": "d200575d-20dd-4671-8273-115a7da8a74f",
   "metadata": {},
   "outputs": [
    {
     "name": "stdout",
     "output_type": "stream",
     "text": [
      "He is driving the car\n"
     ]
    }
   ],
   "source": [
    "audi1.drive()"
   ]
  },
  {
   "cell_type": "code",
   "execution_count": 12,
   "id": "4c2845f5-8a26-4db5-9cfd-d272e756787c",
   "metadata": {},
   "outputs": [
    {
     "name": "stdout",
     "output_type": "stream",
     "text": [
      "audi can self drive\n"
     ]
    }
   ],
   "source": [
    "audi1.selfdriving()"
   ]
  },
  {
   "cell_type": "code",
   "execution_count": null,
   "id": "9b0cbe89-38f0-47f1-ae0c-f4eebbfebc02",
   "metadata": {},
   "outputs": [],
   "source": []
  }
 ],
 "metadata": {
  "kernelspec": {
   "display_name": "Python 3 (ipykernel)",
   "language": "python",
   "name": "python3"
  },
  "language_info": {
   "codemirror_mode": {
    "name": "ipython",
    "version": 3
   },
   "file_extension": ".py",
   "mimetype": "text/x-python",
   "name": "python",
   "nbconvert_exporter": "python",
   "pygments_lexer": "ipython3",
   "version": "3.11.7"
  }
 },
 "nbformat": 4,
 "nbformat_minor": 5
}
